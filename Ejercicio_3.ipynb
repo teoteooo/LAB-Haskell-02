{
 "cells": [
  {
   "cell_type": "code",
   "execution_count": 2,
   "id": "21f05dd1-1f0b-4a3c-aeea-7d8e2708389d",
   "metadata": {
    "tags": []
   },
   "outputs": [
    {
     "data": {
      "text/html": [
       "<style>/* Styles used for the Hoogle display in the pager */\n",
       ".hoogle-doc {\n",
       "display: block;\n",
       "padding-bottom: 1.3em;\n",
       "padding-left: 0.4em;\n",
       "}\n",
       ".hoogle-code {\n",
       "display: block;\n",
       "font-family: monospace;\n",
       "white-space: pre;\n",
       "}\n",
       ".hoogle-text {\n",
       "display: block;\n",
       "}\n",
       ".hoogle-name {\n",
       "color: green;\n",
       "font-weight: bold;\n",
       "}\n",
       ".hoogle-head {\n",
       "font-weight: bold;\n",
       "}\n",
       ".hoogle-sub {\n",
       "display: block;\n",
       "margin-left: 0.4em;\n",
       "}\n",
       ".hoogle-package {\n",
       "font-weight: bold;\n",
       "font-style: italic;\n",
       "}\n",
       ".hoogle-module {\n",
       "font-weight: bold;\n",
       "}\n",
       ".hoogle-class {\n",
       "font-weight: bold;\n",
       "}\n",
       "\n",
       ".get-type {\n",
       "color: green;\n",
       "font-weight: bold;\n",
       "font-family: monospace;\n",
       "display: block;\n",
       "white-space: pre-wrap;\n",
       "}\n",
       ".show-type {\n",
       "color: green;\n",
       "font-weight: bold;\n",
       "font-family: monospace;\n",
       "margin-left: 1em;\n",
       "}\n",
       ".mono {\n",
       "font-family: monospace;\n",
       "display: block;\n",
       "}\n",
       ".err-msg {\n",
       "color: red;\n",
       "font-style: italic;\n",
       "font-family: monospace;\n",
       "white-space: pre;\n",
       "display: block;\n",
       "}\n",
       "#unshowable {\n",
       "color: red;\n",
       "font-weight: bold;\n",
       "}\n",
       ".err-msg.in.collapse {\n",
       "padding-top: 0.7em;\n",
       "}\n",
       "\n",
       ".highlight-code {\n",
       "white-space: pre;\n",
       "font-family: monospace;\n",
       "}\n",
       "\n",
       ".suggestion-warning { \n",
       "font-weight: bold;\n",
       "color: rgb(200, 130, 0);\n",
       "}\n",
       ".suggestion-error { \n",
       "font-weight: bold;\n",
       "color: red;\n",
       "}\n",
       ".suggestion-name {\n",
       "font-weight: bold;\n",
       "}\n",
       "\n",
       "</style><div class=\"suggestion-name\" style=\"clear:both;\">Use sum</div><div class=\"suggestion-row\" style=\"float: left;\"><div class=\"suggestion-warning\">Found:</div><div class=\"highlight-code\" id=\"haskell\">foldr (+) 0</div></div><div class=\"suggestion-row\" style=\"float: left;\"><div class=\"suggestion-warning\">Why Not:</div><div class=\"highlight-code\" id=\"haskell\">sum</div></div><div class=\"suggestion-name\" style=\"clear:both;\">Use product</div><div class=\"suggestion-row\" style=\"float: left;\"><div class=\"suggestion-warning\">Found:</div><div class=\"highlight-code\" id=\"haskell\">foldr (*) 1</div></div><div class=\"suggestion-row\" style=\"float: left;\"><div class=\"suggestion-warning\">Why Not:</div><div class=\"highlight-code\" id=\"haskell\">product</div></div><div class=\"suggestion-name\" style=\"clear:both;\">Use infix</div><div class=\"suggestion-row\" style=\"float: left;\"><div class=\"suggestion-warning\">Found:</div><div class=\"highlight-code\" id=\"haskell\">elem (head p) \"aeiouAEIOU\"</div></div><div class=\"suggestion-row\" style=\"float: left;\"><div class=\"suggestion-warning\">Why Not:</div><div class=\"highlight-code\" id=\"haskell\">head p `elem` \"aeiouAEIOU\"</div></div><div class=\"suggestion-name\" style=\"clear:both;\">Use null</div><div class=\"suggestion-row\" style=\"float: left;\"><div class=\"suggestion-warning\">Found:</div><div class=\"highlight-code\" id=\"haskell\">length n > 0</div></div><div class=\"suggestion-row\" style=\"float: left;\"><div class=\"suggestion-warning\">Why Not:</div><div class=\"highlight-code\" id=\"haskell\">not (null n)</div></div>"
      ],
      "text/plain": [
       "Line 4: Use sum\n",
       "Found:\n",
       "foldr (+) 0\n",
       "Why not:\n",
       "sumLine 14: Use product\n",
       "Found:\n",
       "foldr (*) 1\n",
       "Why not:\n",
       "productLine 50: Use infix\n",
       "Found:\n",
       "elem (head p) \"aeiouAEIOU\"\n",
       "Why not:\n",
       "head p `elem` \"aeiouAEIOU\"Line 70: Use null\n",
       "Found:\n",
       "length n > 0\n",
       "Why not:\n",
       "not (null n)"
      ]
     },
     "metadata": {},
     "output_type": "display_data"
    },
    {
     "data": {
      "text/plain": [
       "55"
      ]
     },
     "metadata": {},
     "output_type": "display_data"
    },
    {
     "data": {
      "text/plain": [
       "3"
      ]
     },
     "metadata": {},
     "output_type": "display_data"
    },
    {
     "data": {
      "text/plain": [
       "5040"
      ]
     },
     "metadata": {},
     "output_type": "display_data"
    },
    {
     "data": {
      "text/plain": [
       "[32.0,77.0,212.0]"
      ]
     },
     "metadata": {},
     "output_type": "display_data"
    },
    {
     "data": {
      "text/plain": [
       "[6,2,8,4,10]"
      ]
     },
     "metadata": {},
     "output_type": "display_data"
    },
    {
     "data": {
      "text/plain": [
       "[\"Roberto\",\"Luciana\",\"Federico\"]"
      ]
     },
     "metadata": {},
     "output_type": "display_data"
    },
    {
     "data": {
      "text/plain": [
       "[-5,-8,-1]"
      ]
     },
     "metadata": {},
     "output_type": "display_data"
    },
    {
     "data": {
      "text/plain": [
       "[18,20,22,25]"
      ]
     },
     "metadata": {},
     "output_type": "display_data"
    },
    {
     "data": {
      "text/plain": [
       "[500.0,1428.0,3570.0,999.0]"
      ]
     },
     "metadata": {},
     "output_type": "display_data"
    },
    {
     "data": {
      "text/plain": [
       "[3,3,3]"
      ]
     },
     "metadata": {},
     "output_type": "display_data"
    },
    {
     "data": {
      "text/plain": [
       "[4,16,36]"
      ]
     },
     "metadata": {},
     "output_type": "display_data"
    },
    {
     "data": {
      "text/plain": [
       "True"
      ]
     },
     "metadata": {},
     "output_type": "display_data"
    },
    {
     "data": {
      "text/plain": [
       "True"
      ]
     },
     "metadata": {},
     "output_type": "display_data"
    },
    {
     "data": {
      "text/plain": [
       "True"
      ]
     },
     "metadata": {},
     "output_type": "display_data"
    },
    {
     "data": {
      "text/plain": [
       "[10,50,99]"
      ]
     },
     "metadata": {},
     "output_type": "display_data"
    },
    {
     "data": {
      "text/plain": [
       "[3,5,0,2]"
      ]
     },
     "metadata": {},
     "output_type": "display_data"
    }
   ],
   "source": [
    "-- 1\n",
    "-- a\n",
    "sumaLista :: [Int] -> Int\n",
    "sumaLista = foldr (+) 0\n",
    "sumaLista [1,5,11,20,3,15]\n",
    "\n",
    "-- b\n",
    "mayoresQue10 :: [Int] -> Int\n",
    "mayoresQue10 = length . filter (>10)\n",
    "mayoresQue10 [1,5,11,20,3,15]\n",
    "\n",
    "-- c\n",
    "productoLista :: [Int] -> Int\n",
    "productoLista = foldr (*) 1\n",
    "productoLista [2,4,7,9,10]\n",
    "\n",
    "-- d\n",
    "celsiusAFahrenheit :: [Double] -> [Double]\n",
    "celsiusAFahrenheit = map (\\c -> c * 9/5 + 32)\n",
    "celsiusAFahrenheit [0,25,100]\n",
    "\n",
    "-- e\n",
    "ajustarImpares :: [Int] -> [Int]\n",
    "ajustarImpares = map (\\x -> if odd x then x + 5 else x)\n",
    "ajustarImpares [1,2,3,4,5]\n",
    "\n",
    "-- 2\n",
    "-- a\n",
    "nombresLargos :: [String] -> [String]\n",
    "nombresLargos = filter (\\nombre -> length nombre > 5)\n",
    "nombresLargos [\"Ana\",\"Roberto\",\"Luciana\",\"Sol\",\"Federico\"]\n",
    "\n",
    "-- b\n",
    "soloNegativos :: [Int] -> [Int]\n",
    "soloNegativos = filter (<0)\n",
    "soloNegativos [-5,0,3,-8,12,-1]\n",
    "\n",
    "-- c\n",
    "edadesUniversitarios :: [Int] -> [Int]\n",
    "edadesUniversitarios = filter (\\edad -> edad >= 18 && edad <= 25)\n",
    "edadesUniversitarios [12,17,18,20,22,25,30]\n",
    "\n",
    "-- 3a\n",
    "agregarIVA :: [Double] -> [Double]\n",
    "agregarIVA = map (\\x -> if x >= 1000 then x * 1.19 else x)\n",
    "agregarIVA [500,1200,3000,999]\n",
    "\n",
    "-- 3b\n",
    "longitudesVocales :: [String] -> [Int]\n",
    "longitudesVocales = map length . filter (\\p -> elem (head p) \"aeiouAEIOU\")\n",
    "longitudesVocales [\"Ana\",\"oso\",\"Luz\",\"uva\",\"Sol\"]\n",
    "\n",
    "-- 3c\n",
    "cuadradosPares :: [Int] -> [Int]\n",
    "cuadradosPares = map (^2) . filter even\n",
    "cuadradosPares [1,2,3,4,5,6]\n",
    "\n",
    "-- 4a\n",
    "hayNegativo :: [Int] -> Bool\n",
    "hayNegativo = any (<0)\n",
    "hayNegativo [5,-2,8,0]\n",
    "\n",
    "-- 4b\n",
    "todosPares :: [Int] -> Bool\n",
    "todosPares = all even\n",
    "todosPares [2,4,6,8]\n",
    "\n",
    "-- 4c\n",
    "nombresCorrectos :: [String] -> Bool\n",
    "nombresCorrectos = all (\\n -> length n > 0 && head n `elem` ['A'..'Z'])\n",
    "nombresCorrectos [\"Ana\",\"Pedro\",\"Lucia\"]\n",
    "\n",
    "-- 5a\n",
    "menoresQue100 :: [Int] -> [Int]\n",
    "menoresQue100 = takeWhile (<100)\n",
    "menoresQue100 [10,50,99,100,101,120]\n",
    "\n",
    "-- 5b\n",
    "sinCerosIniciales :: [Int] -> [Int]\n",
    "sinCerosIniciales = dropWhile (==0)\n",
    "sinCerosIniciales [0,0,3,5,0,2]"
   ]
  },
  {
   "cell_type": "code",
   "execution_count": null,
   "id": "5ae3a225-a61b-4b66-927f-ed20aef844ba",
   "metadata": {},
   "outputs": [],
   "source": []
  }
 ],
 "metadata": {
  "kernelspec": {
   "display_name": "Haskell",
   "language": "haskell",
   "name": "haskell"
  },
  "language_info": {
   "codemirror_mode": "ihaskell",
   "file_extension": ".hs",
   "mimetype": "text/x-haskell",
   "name": "haskell",
   "pygments_lexer": "Haskell",
   "version": "9.6.4"
  }
 },
 "nbformat": 4,
 "nbformat_minor": 5
}
