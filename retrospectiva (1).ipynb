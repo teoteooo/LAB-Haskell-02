{
 "cells": [
  {
   "cell_type": "code",
   "execution_count": null,
   "id": "522e4653-e595-4063-9ab0-29aaf90fcc8d",
   "metadata": {},
   "outputs": [],
   "source": [
    "--¿Cuál fue el tiempo total invertido en el laboratorio por cada uno de ustedes? (Horas/Hombre)\n",
    "-- 3 horas en clase + 2 horas y 30 minutos en casa\n",
    "--¿Cuál es el estado actual del laboratorio? ¿Por qué?\n",
    "-- completo\n",
    "--¿Cuál consideran fue el mayor logro? ¿Por qué?\n",
    "-- aprender, porque es algo nuevo \n",
    "--¿Cuál consideran que fue el mayor problema técnico? ¿Qué hicieron para resolverlo?\n",
    "-- el problema de las jarras con el algoritmo A?\n",
    "--¿Qué hicieron bien como equipo? ¿Qué se comprometen a hacer para mejorar los resultados?\n",
    "--\n",
    "--¿Qué referencias usaron? ¿Cuál fue la más útil? Incluyan citas con estándares adecuados.\n",
    "--"
   ]
  }
 ],
 "metadata": {
  "kernelspec": {
   "display_name": "Haskell",
   "language": "haskell",
   "name": "haskell"
  },
  "language_info": {
   "codemirror_mode": "ihaskell",
   "file_extension": ".hs",
   "mimetype": "text/x-haskell",
   "name": "haskell",
   "pygments_lexer": "Haskell",
   "version": "9.6.4"
  }
 },
 "nbformat": 4,
 "nbformat_minor": 5
}
