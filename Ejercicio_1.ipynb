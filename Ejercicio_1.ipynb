{
 "cells": [
  {
   "cell_type": "code",
   "execution_count": 101,
   "id": "b1c5fc0d-3955-4d83-a629-0a01703e5eea",
   "metadata": {
    "tags": []
   },
   "outputs": [
    {
     "data": {
      "text/html": [
       "<style>/* Styles used for the Hoogle display in the pager */\n",
       ".hoogle-doc {\n",
       "display: block;\n",
       "padding-bottom: 1.3em;\n",
       "padding-left: 0.4em;\n",
       "}\n",
       ".hoogle-code {\n",
       "display: block;\n",
       "font-family: monospace;\n",
       "white-space: pre;\n",
       "}\n",
       ".hoogle-text {\n",
       "display: block;\n",
       "}\n",
       ".hoogle-name {\n",
       "color: green;\n",
       "font-weight: bold;\n",
       "}\n",
       ".hoogle-head {\n",
       "font-weight: bold;\n",
       "}\n",
       ".hoogle-sub {\n",
       "display: block;\n",
       "margin-left: 0.4em;\n",
       "}\n",
       ".hoogle-package {\n",
       "font-weight: bold;\n",
       "font-style: italic;\n",
       "}\n",
       ".hoogle-module {\n",
       "font-weight: bold;\n",
       "}\n",
       ".hoogle-class {\n",
       "font-weight: bold;\n",
       "}\n",
       "\n",
       ".get-type {\n",
       "color: green;\n",
       "font-weight: bold;\n",
       "font-family: monospace;\n",
       "display: block;\n",
       "white-space: pre-wrap;\n",
       "}\n",
       ".show-type {\n",
       "color: green;\n",
       "font-weight: bold;\n",
       "font-family: monospace;\n",
       "margin-left: 1em;\n",
       "}\n",
       ".mono {\n",
       "font-family: monospace;\n",
       "display: block;\n",
       "}\n",
       ".err-msg {\n",
       "color: red;\n",
       "font-style: italic;\n",
       "font-family: monospace;\n",
       "white-space: pre;\n",
       "display: block;\n",
       "}\n",
       "#unshowable {\n",
       "color: red;\n",
       "font-weight: bold;\n",
       "}\n",
       ".err-msg.in.collapse {\n",
       "padding-top: 0.7em;\n",
       "}\n",
       "\n",
       ".highlight-code {\n",
       "white-space: pre;\n",
       "font-family: monospace;\n",
       "}\n",
       "\n",
       ".suggestion-warning { \n",
       "font-weight: bold;\n",
       "color: rgb(200, 130, 0);\n",
       "}\n",
       ".suggestion-error { \n",
       "font-weight: bold;\n",
       "color: red;\n",
       "}\n",
       ".suggestion-name {\n",
       "font-weight: bold;\n",
       "}\n",
       "\n",
       "</style><div class=\"suggestion-name\" style=\"clear:both;\">Use map</div><div class=\"suggestion-row\" style=\"float: left;\"><div class=\"suggestion-warning\">Found:</div><div class=\"highlight-code\" id=\"haskell\">duplicar [] = []\n",
       "duplicar (x : xs) = (2 * x) : duplicar xs</div></div><div class=\"suggestion-row\" style=\"float: left;\"><div class=\"suggestion-warning\">Why Not:</div><div class=\"highlight-code\" id=\"haskell\">duplicar xs = map (2 *) xs</div></div><div class=\"suggestion-name\" style=\"clear:both;\">Use const</div><div class=\"suggestion-row\" style=\"float: left;\"><div class=\"suggestion-warning\">Found:</div><div class=\"highlight-code\" id=\"haskell\">\\ _ -> 1</div></div><div class=\"suggestion-row\" style=\"float: left;\"><div class=\"suggestion-warning\">Why Not:</div><div class=\"highlight-code\" id=\"haskell\">const 1</div></div><div class=\"suggestion-name\" style=\"clear:both;\">Use last</div><div class=\"suggestion-row\" style=\"float: left;\"><div class=\"suggestion-warning\">Found:</div><div class=\"highlight-code\" id=\"haskell\">head (reverse xs)</div></div><div class=\"suggestion-row\" style=\"float: left;\"><div class=\"suggestion-warning\">Why Not:</div><div class=\"highlight-code\" id=\"haskell\">last xs</div></div>"
      ],
      "text/plain": [
       "Line 16: Use map\n",
       "Found:\n",
       "duplicar [] = []\n",
       "duplicar (x : xs) = (2 * x) : duplicar xs\n",
       "Why not:\n",
       "duplicar xs = map (2 *) xsLine 31: Use const\n",
       "Found:\n",
       "\\ _ -> 1\n",
       "Why not:\n",
       "const 1Line 36: Use last\n",
       "Found:\n",
       "head (reverse xs)\n",
       "Why not:\n",
       "last xs"
      ]
     },
     "metadata": {},
     "output_type": "display_data"
    },
    {
     "data": {
      "text/plain": [
       "4"
      ]
     },
     "metadata": {},
     "output_type": "display_data"
    },
    {
     "data": {
      "text/plain": [
       "[6]"
      ]
     },
     "metadata": {},
     "output_type": "display_data"
    },
    {
     "data": {
      "text/plain": [
       "[2,4,6,8,10]"
      ]
     },
     "metadata": {},
     "output_type": "display_data"
    },
    {
     "data": {
      "text/plain": [
       "[1,3,5]"
      ]
     },
     "metadata": {},
     "output_type": "display_data"
    },
    {
     "data": {
      "text/plain": [
       "4"
      ]
     },
     "metadata": {},
     "output_type": "display_data"
    },
    {
     "data": {
      "text/plain": [
       "6"
      ]
     },
     "metadata": {},
     "output_type": "display_data"
    },
    {
     "data": {
      "text/plain": [
       "[4,6,8,10]"
      ]
     },
     "metadata": {},
     "output_type": "display_data"
    },
    {
     "data": {
      "text/plain": [
       "[1,3,5]"
      ]
     },
     "metadata": {},
     "output_type": "display_data"
    }
   ],
   "source": [
    "--1\n",
    "--Retorna la longitud de una lista\n",
    "miLength :: [a] -> Int\n",
    "miLength [] = 0\n",
    "miLength (_:xs) = 1 + miLength xs\n",
    "miLength [1,2,3,4]\n",
    "\n",
    "--Retorna el último elemento de una lista\n",
    "miLast :: [Int]-> [Int]\n",
    "miLast [x] = [x]\n",
    "miLast (_:xs) = miLast xs\n",
    "miLast [1,2,3,4,5,6]\n",
    "\n",
    "--Duplica cada elemento de una lista de números\n",
    "duplicar :: [Int] -> [Int]\n",
    "duplicar [] = []\n",
    "duplicar (x:xs) = (2 * x) : duplicar xs\n",
    "duplicar [1,2,3,4,5]\n",
    "\n",
    "--Eliminar los elementos pares de una lista\n",
    "eliminarPares :: [Int] -> [Int]\n",
    "eliminarPares [] = []\n",
    "eliminarPares (x:xs)\n",
    " | even x = eliminarPares xs\n",
    " | otherwise = x : eliminarPares xs\n",
    "eliminarPares [1,2,3,4,5,6]\n",
    "\n",
    "--2\n",
    "--Retorna la longitud de una lista\n",
    "miLength :: [a] -> Int\n",
    "miLength xs = sum(map(\\_ -> 1) xs)\n",
    "miLength [1,2,3,4]\n",
    "\n",
    "--Retorna el último elemento de una lista\n",
    "miLast :: [a] -> a\n",
    "miLast xs = head (reverse xs)\n",
    "miLast [1,2,3,4,5,6]\n",
    "\n",
    "--Duplica cada elemento de una lista de números\n",
    "duplicar :: [Int] -> [Int]\n",
    "duplicar [] = []\n",
    "duplicar (x:xs) = map (*2) xs\n",
    "duplicar [1,2,3,4,5]\n",
    "\n",
    "--Eliminar los elementos pares de una lista\n",
    "eliminarPares :: [Int] -> [Int]\n",
    "eliminarPares = filter odd\n",
    "eliminarPares [1,2,3,4,5,6]\n"
   ]
  }
 ],
 "metadata": {
  "kernelspec": {
   "display_name": "Haskell",
   "language": "haskell",
   "name": "haskell"
  },
  "language_info": {
   "codemirror_mode": "ihaskell",
   "file_extension": ".hs",
   "mimetype": "text/x-haskell",
   "name": "haskell",
   "pygments_lexer": "Haskell",
   "version": "9.6.4"
  }
 },
 "nbformat": 4,
 "nbformat_minor": 5
}
