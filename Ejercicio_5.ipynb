{
 "cells": [
  {
   "cell_type": "code",
   "execution_count": 6,
   "id": "958aa8af-1ec3-44b7-8d39-f81da56541eb",
   "metadata": {
    "tags": []
   },
   "outputs": [
    {
     "data": {
      "text/plain": [
       "((0,0),0)\n",
       "((5,0),1)\n",
       "((5,3),2)\n",
       "((2,3),2)\n",
       "((0,3),1)\n",
       "((3,0),2)\n",
       "((3,3),3)\n",
       "((5,1),4)\n",
       "((2,0),3)\n",
       "((0,2),4)\n",
       "((5,2),5)\n",
       "((4,3),6)"
      ]
     },
     "metadata": {},
     "output_type": "display_data"
    }
   ],
   "source": [
    "type Estado = (Int, Int)   -- (litros en jarra A, litros en jarra B)\n",
    "type Nodo = Estado\n",
    "type Costo = Int\n",
    "\n",
    "capA, capB :: Int\n",
    "capA = 5\n",
    "capB = 3\n",
    "\n",
    "vecinos :: Estado -> [(Estado, Costo)]\n",
    "vecinos (a,b) =\n",
    "    [ ((capA, b), 1)                    -- Llenar jarra A\n",
    "    , ((a, capB), 1)                    -- Llenar jarra B\n",
    "    , ((0, b), 1)                       -- Vaciar jarra A\n",
    "    , ((a, 0), 1)                       -- Vaciar jarra B\n",
    "    , (transferirAB (a,b), 1)           -- Verter A → B\n",
    "    , (transferirBA (a,b), 1)           -- Verter B → A\n",
    "    ]\n",
    "\n",
    "-- Verter de A hacia B\n",
    "transferirAB :: Estado -> Estado\n",
    "transferirAB (a,b) =\n",
    "    let espacioB = capB - b\n",
    "        cantidad = min a espacioB\n",
    "    in (a - cantidad, b + cantidad)\n",
    "\n",
    "-- Verter de B hacia A\n",
    "transferirBA :: Estado -> Estado\n",
    "transferirBA (a,b) =\n",
    "    let espacioA = capA - a\n",
    "        cantidad = min b espacioA\n",
    "    in (a + cantidad, b - cantidad)\n",
    "\n",
    "heuristica :: Estado -> Costo\n",
    "heuristica (a,b) = abs (a - 4) + abs (b - 4)\n",
    "\n",
    "-- Algoritmo A*\n",
    "aStar :: (Nodo -> [(Nodo, Costo)]) -> (Nodo -> Costo) -> Nodo -> (Nodo -> Bool) -> [(Nodo, Costo)]\n",
    "aStar sucesores heuristica inicio esMeta = buscar [(inicio, 0)] []\n",
    "  where\n",
    "    buscar [] _ = []\n",
    "    buscar ((nodo, costo):cola) visitados\n",
    "      | esMeta nodo = [(nodo, costo)]\n",
    "      | nodo `elem` visitados = buscar cola visitados\n",
    "      | otherwise =\n",
    "          let nuevos = [(v, costo + c) | (v, c) <- sucesores nodo, v `notElem` visitados]\n",
    "              ordenados = sortOn (\\(v, c) -> c + heuristica v) (cola ++ nuevos)\n",
    "          in (nodo, costo) : buscar ordenados (nodo : visitados)\n",
    "\n",
    "\n",
    "meta :: Estado -> Bool\n",
    "meta (a,b) = a == 4 || b == 4\n",
    "\n",
    "inicio :: Estado\n",
    "inicio = (0,0)\n",
    "\n",
    "let resultado = aStar vecinos heuristica inicio meta\n",
    "mapM_ print resultado"
   ]
  }
 ],
 "metadata": {
  "kernelspec": {
   "display_name": "Haskell",
   "language": "haskell",
   "name": "haskell"
  },
  "language_info": {
   "codemirror_mode": "ihaskell",
   "file_extension": ".hs",
   "mimetype": "text/x-haskell",
   "name": "haskell",
   "pygments_lexer": "Haskell",
   "version": "9.6.4"
  }
 },
 "nbformat": 4,
 "nbformat_minor": 5
}
