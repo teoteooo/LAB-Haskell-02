{
 "cells": [
  {
   "cell_type": "code",
   "execution_count": 54,
   "id": "71d0e272-70c8-46d7-ba40-ed0a9afd0723",
   "metadata": {
    "tags": []
   },
   "outputs": [
    {
     "data": {
      "text/plain": [
       "[1,4,9,16,25,36,49,64,81,100]"
      ]
     },
     "metadata": {},
     "output_type": "display_data"
    },
    {
     "data": {
      "text/plain": [
       "[3,6,9,12,15,18,21,24,27,30]"
      ]
     },
     "metadata": {},
     "output_type": "display_data"
    },
    {
     "data": {
      "text/plain": [
       "[(1,1),(1,2),(1,3),(1,4),(1,5),(2,1),(2,2),(2,3),(2,4),(2,5),(3,1),(3,2),(3,3),(3,4),(3,5),(4,1),(4,2),(4,3),(4,4),(4,5),(5,1),(5,2),(5,3),(5,4),(5,5)]"
      ]
     },
     "metadata": {},
     "output_type": "display_data"
    },
    {
     "data": {
      "text/plain": [
       "[1,2,3,4,6,12]"
      ]
     },
     "metadata": {},
     "output_type": "display_data"
    }
   ],
   "source": [
    "--1\n",
    "--a. Obtener los cuadrados de los primeros 10 números.\n",
    "[ x^2 | x <- [1..10]]\n",
    "--b. Filtrar los divisibles por 3 entre 1 y 30.\n",
    "[ x | x <- [1..30], mod x 3 == 0]\n",
    "--c. Generar una lista de pares (x, y) donde x < y y ambos estén en [1..5].\n",
    "[ (x,y) | x <- [1..5], y <- [1..5]]\n",
    "\n",
    "--2\n",
    "divisores :: Int -> [Int]\n",
    "divisores n = [ x | x <- [1..n], mod n x == 0]\n",
    "divisores 12\n",
    "\n",
    "\n"
   ]
  },
  {
   "cell_type": "code",
   "execution_count": null,
   "id": "ae929b43-49e9-41db-a0fb-cf1782f72c04",
   "metadata": {},
   "outputs": [],
   "source": []
  },
  {
   "cell_type": "code",
   "execution_count": null,
   "id": "fca8b41e-0273-4ad5-9bed-326140d6cd26",
   "metadata": {},
   "outputs": [],
   "source": []
  }
 ],
 "metadata": {
  "kernelspec": {
   "display_name": "Haskell",
   "language": "haskell",
   "name": "haskell"
  },
  "language_info": {
   "codemirror_mode": "ihaskell",
   "file_extension": ".hs",
   "mimetype": "text/x-haskell",
   "name": "haskell",
   "pygments_lexer": "Haskell",
   "version": "9.6.4"
  }
 },
 "nbformat": 4,
 "nbformat_minor": 5
}
